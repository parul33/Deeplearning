{
  "nbformat": 4,
  "nbformat_minor": 0,
  "metadata": {
    "colab": {
      "provenance": [],
      "authorship_tag": "ABX9TyOVcip8Clnrc8hCg//SU2s0",
      "include_colab_link": true
    },
    "kernelspec": {
      "name": "python3",
      "display_name": "Python 3"
    },
    "language_info": {
      "name": "python"
    }
  },
  "cells": [
    {
      "cell_type": "markdown",
      "metadata": {
        "id": "view-in-github",
        "colab_type": "text"
      },
      "source": [
        "<a href=\"https://colab.research.google.com/github/parul33/Deeplearning/blob/main/TransferLearning12sep.ipynb\" target=\"_parent\"><img src=\"https://colab.research.google.com/assets/colab-badge.svg\" alt=\"Open In Colab\"/></a>"
      ]
    },
    {
      "cell_type": "code",
      "execution_count": 3,
      "metadata": {
        "id": "0sp5cebg6K_J"
      },
      "outputs": [],
      "source": [
        " import tensorflow as tf\n",
        " from tensorflow.keras import layers, models\n",
        " from tensorflow.keras.applications import VGG16\n",
        " from tensorflow.keras.datasets import mnist\n",
        " from tensorflow.keras.utils import to_categorical\n"
      ]
    },
    {
      "cell_type": "code",
      "source": [
        "\n",
        "\n",
        " (train_images, train_labels), (test_images, test_labels) = mnist.load_data()\n"
      ],
      "metadata": {
        "id": "53IGXVCFxYFA"
      },
      "execution_count": 11,
      "outputs": []
    },
    {
      "cell_type": "code",
      "source": [
        "train_images = train_images.reshape((60000, 28, 28, 1)).astype('float32') / 255\n",
        "test_images = test_images.reshape((10000, 28, 28, 1)).astype('float32') / 255\n",
        "\n",
        "# Resize images to 32x32 (as VGG16 requires at least 32x32) and keep the last dimension as 1\n",
        "train_images_resized = tf.image.resize(train_images, (32, 32))\n",
        "test_images_resized = tf.image.resize(test_images, (32, 32))\n",
        "\n",
        "# Since VGG16/MobileNet requires 3-channel input, replicate the grayscale image across 3 channels\n",
        "train_images_rgb = tf.image.grayscale_to_rgb(train_images_resized)\n",
        "test_images_rgb = tf.image.grayscale_to_rgb(test_images_resized)\n",
        "\n",
        "\n"
      ],
      "metadata": {
        "id": "bKaJgMWjxgfd"
      },
      "execution_count": 5,
      "outputs": []
    },
    {
      "cell_type": "code",
      "source": [
        "train_labels = to_categorical(train_labels, 10)\n",
        "test_labels = to_categorical(test_labels, 10)\n",
        "\n"
      ],
      "metadata": {
        "id": "lgLYWrcNxzP4"
      },
      "execution_count": 6,
      "outputs": []
    },
    {
      "cell_type": "code",
      "source": [
        "base_model = VGG16(weights='imagenet', include_top=False,\n",
        "                   input_shape=(32, 32, 3))\n",
        "base_model.trainable = False\n"
      ],
      "metadata": {
        "id": "h0Vdyt7hyUJa"
      },
      "execution_count": 12,
      "outputs": []
    },
    {
      "cell_type": "code",
      "source": [
        "model = models.Sequential([\n",
        "    base_model,  # Use VGG16 as the feature extractor\n",
        "    layers.Flatten(),  # Flatten the output of VGG16 to feed it to the Dense layer\n",
        "    layers.Dense(64, activation='relu'),  # Add a Dense layer with 64 units and ReLU activation\n",
        "    layers.Dense(10, activation='softmax')  # Output layer for classification into 10 classes (digits)\n",
        "])\n"
      ],
      "metadata": {
        "id": "l81v5Fl8ym3w"
      },
      "execution_count": 8,
      "outputs": []
    },
    {
      "cell_type": "code",
      "source": [
        "model.compile(optimizer='adam',\n",
        "              loss='categorical_crossentropy',\n",
        "              metrics=['accuracy'])\n"
      ],
      "metadata": {
        "id": "3amM9YNIytyb"
      },
      "execution_count": 9,
      "outputs": []
    },
    {
      "cell_type": "code",
      "source": [
        "# Train the model\n",
        "history = model.fit(train_images_rgb, train_labels,\n",
        "                    epochs=5, batch_size=64, validation_split=0.2)\n",
        "\n",
        "# Evaluate the model\n",
        "test_loss, test_acc = model.evaluate(test_images_rgb,\n",
        "                                      test_labels)\n",
        "\n",
        "print(f'Test Accuracy: {test_acc}')\n"
      ],
      "metadata": {
        "colab": {
          "base_uri": "https://localhost:8080/"
        },
        "id": "qaOtKUWQy10V",
        "outputId": "e03d6178-7415-4aca-8e6d-c819c1498bc2"
      },
      "execution_count": 10,
      "outputs": [
        {
          "output_type": "stream",
          "name": "stdout",
          "text": [
            "Epoch 1/5\n",
            "\u001b[1m750/750\u001b[0m \u001b[32m━━━━━━━━━━━━━━━━━━━━\u001b[0m\u001b[37m\u001b[0m \u001b[1m763s\u001b[0m 1s/step - accuracy: 0.7395 - loss: 0.9316 - val_accuracy: 0.9281 - val_loss: 0.2479\n",
            "Epoch 2/5\n",
            "\u001b[1m750/750\u001b[0m \u001b[32m━━━━━━━━━━━━━━━━━━━━\u001b[0m\u001b[37m\u001b[0m \u001b[1m841s\u001b[0m 1s/step - accuracy: 0.9348 - loss: 0.2229 - val_accuracy: 0.9472 - val_loss: 0.1770\n",
            "Epoch 3/5\n",
            "\u001b[1m750/750\u001b[0m \u001b[32m━━━━━━━━━━━━━━━━━━━━\u001b[0m\u001b[37m\u001b[0m \u001b[1m743s\u001b[0m 991ms/step - accuracy: 0.9523 - loss: 0.1607 - val_accuracy: 0.9553 - val_loss: 0.1500\n",
            "Epoch 4/5\n",
            "\u001b[1m750/750\u001b[0m \u001b[32m━━━━━━━━━━━━━━━━━━━━\u001b[0m\u001b[37m\u001b[0m \u001b[1m853s\u001b[0m 1s/step - accuracy: 0.9604 - loss: 0.1340 - val_accuracy: 0.9603 - val_loss: 0.1262\n",
            "Epoch 5/5\n",
            "\u001b[1m750/750\u001b[0m \u001b[32m━━━━━━━━━━━━━━━━━━━━\u001b[0m\u001b[37m\u001b[0m \u001b[1m792s\u001b[0m 1s/step - accuracy: 0.9634 - loss: 0.1222 - val_accuracy: 0.9568 - val_loss: 0.1294\n",
            "\u001b[1m313/313\u001b[0m \u001b[32m━━━━━━━━━━━━━━━━━━━━\u001b[0m\u001b[37m\u001b[0m \u001b[1m128s\u001b[0m 407ms/step - accuracy: 0.9589 - loss: 0.1295\n",
            "Test Accuracy: 0.9617000222206116\n"
          ]
        }
      ]
    }
  ]
}